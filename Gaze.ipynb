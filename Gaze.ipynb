{
  "nbformat": 4,
  "nbformat_minor": 0,
  "metadata": {
    "colab": {
      "name": "Gaze.ipynb",
      "version": "0.3.2",
      "provenance": [],
      "collapsed_sections": [],
      "include_colab_link": true
    },
    "kernelspec": {
      "name": "python3",
      "display_name": "Python 3"
    },
    "accelerator": "GPU"
  },
  "cells": [
    {
      "cell_type": "markdown",
      "metadata": {
        "id": "view-in-github",
        "colab_type": "text"
      },
      "source": [
        "<a href=\"https://colab.research.google.com/github/Varunittigi/Hello_world/blob/master/Gaze.ipynb\" target=\"_parent\"><img src=\"https://colab.research.google.com/assets/colab-badge.svg\" alt=\"Open In Colab\"/></a>"
      ]
    },
    {
      "cell_type": "code",
      "metadata": {
        "id": "evYdj5vIfXoI",
        "colab_type": "code",
        "outputId": "6182b434-cb6b-4b12-9412-4d644f60f2fd",
        "colab": {
          "base_uri": "https://localhost:8080/",
          "height": 129
        }
      },
      "source": [
        "from google.colab import drive\n",
        "drive.mount('/content/gdrive')"
      ],
      "execution_count": 0,
      "outputs": [
        {
          "output_type": "stream",
          "text": [
            "Go to this URL in a browser: https://accounts.google.com/o/oauth2/auth?client_id=947318989803-6bn6qk8qdgf4n4g3pfee6491hc0brc4i.apps.googleusercontent.com&redirect_uri=urn%3Aietf%3Awg%3Aoauth%3A2.0%3Aoob&scope=email%20https%3A%2F%2Fwww.googleapis.com%2Fauth%2Fdocs.test%20https%3A%2F%2Fwww.googleapis.com%2Fauth%2Fdrive%20https%3A%2F%2Fwww.googleapis.com%2Fauth%2Fdrive.photos.readonly%20https%3A%2F%2Fwww.googleapis.com%2Fauth%2Fpeopleapi.readonly&response_type=code\n",
            "\n",
            "Enter your authorization code:\n",
            "··········\n",
            "Mounted at /content/gdrive\n"
          ],
          "name": "stdout"
        }
      ]
    },
    {
      "cell_type": "code",
      "metadata": {
        "id": "wkGsKYF2fr5E",
        "colab_type": "code",
        "outputId": "b9be41c9-d1f5-4cc3-f7a3-115bcd2d39f8",
        "colab": {
          "base_uri": "https://localhost:8080/",
          "height": 35
        }
      },
      "source": [
        "%cd gdrive/My Drive/Colab/\n"
      ],
      "execution_count": 0,
      "outputs": [
        {
          "output_type": "stream",
          "text": [
            "/content/gdrive/My Drive/Colab\n"
          ],
          "name": "stdout"
        }
      ]
    },
    {
      "cell_type": "code",
      "metadata": {
        "id": "S4q4f5aNgn6G",
        "colab_type": "code",
        "outputId": "a791ef2c-c7b1-4a2c-c265-fa7fc49941b9",
        "colab": {
          "base_uri": "https://localhost:8080/",
          "height": 35
        }
      },
      "source": [
        "%cd train_gaze/\n"
      ],
      "execution_count": 0,
      "outputs": [
        {
          "output_type": "stream",
          "text": [
            "/content/gdrive/My Drive/Colab/train_gaze\n"
          ],
          "name": "stdout"
        }
      ]
    },
    {
      "cell_type": "code",
      "metadata": {
        "id": "_JiCJgUMiDm4",
        "colab_type": "code",
        "colab": {}
      },
      "source": [
        "import pandas as pd\n",
        "import numpy as np\n",
        "import torch\n",
        "import torch.nn as nn\n",
        "import torch.nn.functional as F\n",
        "%matplotlib inline\n",
        "from matplotlib import pyplot as plt\n",
        "from torch.autograd import Variable\n",
        "\n"
      ],
      "execution_count": 0,
      "outputs": []
    },
    {
      "cell_type": "code",
      "metadata": {
        "id": "7u8bxXi-iQrp",
        "colab_type": "code",
        "colab": {}
      },
      "source": [
        "data = pd.read_csv('303_CLNF_gaze.csv')"
      ],
      "execution_count": 0,
      "outputs": []
    },
    {
      "cell_type": "code",
      "metadata": {
        "id": "5nX_t_P-l5NG",
        "colab_type": "code",
        "outputId": "ed06f11e-a838-4a41-82ce-9b3c1e2e5c42",
        "colab": {
          "base_uri": "https://localhost:8080/",
          "height": 383
        }
      },
      "source": [
        "data.head(10)"
      ],
      "execution_count": 0,
      "outputs": [
        {
          "output_type": "execute_result",
          "data": {
            "text/html": [
              "<div>\n",
              "<style scoped>\n",
              "    .dataframe tbody tr th:only-of-type {\n",
              "        vertical-align: middle;\n",
              "    }\n",
              "\n",
              "    .dataframe tbody tr th {\n",
              "        vertical-align: top;\n",
              "    }\n",
              "\n",
              "    .dataframe thead th {\n",
              "        text-align: right;\n",
              "    }\n",
              "</style>\n",
              "<table border=\"1\" class=\"dataframe\">\n",
              "  <thead>\n",
              "    <tr style=\"text-align: right;\">\n",
              "      <th></th>\n",
              "      <th>frame</th>\n",
              "      <th>timestamp</th>\n",
              "      <th>confidence</th>\n",
              "      <th>success</th>\n",
              "      <th>x_0</th>\n",
              "      <th>y_0</th>\n",
              "      <th>z_0</th>\n",
              "      <th>x_1</th>\n",
              "      <th>y_1</th>\n",
              "      <th>z_1</th>\n",
              "      <th>x_h0</th>\n",
              "      <th>y_h0</th>\n",
              "      <th>z_h0</th>\n",
              "      <th>x_h1</th>\n",
              "      <th>y_h1</th>\n",
              "      <th>z_h1</th>\n",
              "    </tr>\n",
              "  </thead>\n",
              "  <tbody>\n",
              "    <tr>\n",
              "      <th>0</th>\n",
              "      <td>1</td>\n",
              "      <td>0.000000</td>\n",
              "      <td>0.981368</td>\n",
              "      <td>1</td>\n",
              "      <td>0.050079</td>\n",
              "      <td>0.098449</td>\n",
              "      <td>-0.993881</td>\n",
              "      <td>-0.032585</td>\n",
              "      <td>0.083760</td>\n",
              "      <td>-0.995953</td>\n",
              "      <td>-0.006358</td>\n",
              "      <td>0.070951</td>\n",
              "      <td>-0.997460</td>\n",
              "      <td>-0.089732</td>\n",
              "      <td>0.061428</td>\n",
              "      <td>-0.994070</td>\n",
              "    </tr>\n",
              "    <tr>\n",
              "      <th>1</th>\n",
              "      <td>2</td>\n",
              "      <td>0.033333</td>\n",
              "      <td>0.980735</td>\n",
              "      <td>1</td>\n",
              "      <td>0.050203</td>\n",
              "      <td>0.085346</td>\n",
              "      <td>-0.995086</td>\n",
              "      <td>-0.019518</td>\n",
              "      <td>0.075966</td>\n",
              "      <td>-0.996919</td>\n",
              "      <td>-0.010188</td>\n",
              "      <td>0.053972</td>\n",
              "      <td>-0.998490</td>\n",
              "      <td>-0.080333</td>\n",
              "      <td>0.049126</td>\n",
              "      <td>-0.995557</td>\n",
              "    </tr>\n",
              "    <tr>\n",
              "      <th>2</th>\n",
              "      <td>3</td>\n",
              "      <td>0.066667</td>\n",
              "      <td>0.980477</td>\n",
              "      <td>1</td>\n",
              "      <td>0.052620</td>\n",
              "      <td>0.086090</td>\n",
              "      <td>-0.994897</td>\n",
              "      <td>-0.019757</td>\n",
              "      <td>0.076738</td>\n",
              "      <td>-0.996855</td>\n",
              "      <td>-0.008544</td>\n",
              "      <td>0.052292</td>\n",
              "      <td>-0.998595</td>\n",
              "      <td>-0.081343</td>\n",
              "      <td>0.047745</td>\n",
              "      <td>-0.995542</td>\n",
              "    </tr>\n",
              "    <tr>\n",
              "      <th>3</th>\n",
              "      <td>4</td>\n",
              "      <td>0.100000</td>\n",
              "      <td>0.980439</td>\n",
              "      <td>1</td>\n",
              "      <td>0.052326</td>\n",
              "      <td>0.083745</td>\n",
              "      <td>-0.995112</td>\n",
              "      <td>-0.019646</td>\n",
              "      <td>0.077822</td>\n",
              "      <td>-0.996774</td>\n",
              "      <td>-0.009415</td>\n",
              "      <td>0.049591</td>\n",
              "      <td>-0.998725</td>\n",
              "      <td>-0.081569</td>\n",
              "      <td>0.048484</td>\n",
              "      <td>-0.995488</td>\n",
              "    </tr>\n",
              "    <tr>\n",
              "      <th>4</th>\n",
              "      <td>5</td>\n",
              "      <td>0.133333</td>\n",
              "      <td>0.980438</td>\n",
              "      <td>1</td>\n",
              "      <td>0.052759</td>\n",
              "      <td>0.082940</td>\n",
              "      <td>-0.995157</td>\n",
              "      <td>-0.019311</td>\n",
              "      <td>0.077857</td>\n",
              "      <td>-0.996778</td>\n",
              "      <td>-0.009226</td>\n",
              "      <td>0.048539</td>\n",
              "      <td>-0.998779</td>\n",
              "      <td>-0.081419</td>\n",
              "      <td>0.048296</td>\n",
              "      <td>-0.995509</td>\n",
              "    </tr>\n",
              "    <tr>\n",
              "      <th>5</th>\n",
              "      <td>6</td>\n",
              "      <td>0.166667</td>\n",
              "      <td>0.982374</td>\n",
              "      <td>1</td>\n",
              "      <td>0.021476</td>\n",
              "      <td>0.083240</td>\n",
              "      <td>-0.996298</td>\n",
              "      <td>-0.023043</td>\n",
              "      <td>0.078033</td>\n",
              "      <td>-0.996684</td>\n",
              "      <td>-0.042300</td>\n",
              "      <td>0.048188</td>\n",
              "      <td>-0.997942</td>\n",
              "      <td>-0.086981</td>\n",
              "      <td>0.045951</td>\n",
              "      <td>-0.995150</td>\n",
              "    </tr>\n",
              "    <tr>\n",
              "      <th>6</th>\n",
              "      <td>7</td>\n",
              "      <td>0.200000</td>\n",
              "      <td>0.983239</td>\n",
              "      <td>1</td>\n",
              "      <td>0.026547</td>\n",
              "      <td>0.081687</td>\n",
              "      <td>-0.996304</td>\n",
              "      <td>-0.008445</td>\n",
              "      <td>0.070804</td>\n",
              "      <td>-0.997455</td>\n",
              "      <td>-0.037735</td>\n",
              "      <td>0.049815</td>\n",
              "      <td>-0.998045</td>\n",
              "      <td>-0.073350</td>\n",
              "      <td>0.041259</td>\n",
              "      <td>-0.996452</td>\n",
              "    </tr>\n",
              "    <tr>\n",
              "      <th>7</th>\n",
              "      <td>8</td>\n",
              "      <td>0.233333</td>\n",
              "      <td>0.983326</td>\n",
              "      <td>1</td>\n",
              "      <td>0.016814</td>\n",
              "      <td>0.071018</td>\n",
              "      <td>-0.997333</td>\n",
              "      <td>0.008801</td>\n",
              "      <td>0.066393</td>\n",
              "      <td>-0.997755</td>\n",
              "      <td>-0.051502</td>\n",
              "      <td>0.040807</td>\n",
              "      <td>-0.997839</td>\n",
              "      <td>-0.059822</td>\n",
              "      <td>0.036748</td>\n",
              "      <td>-0.997532</td>\n",
              "    </tr>\n",
              "    <tr>\n",
              "      <th>8</th>\n",
              "      <td>9</td>\n",
              "      <td>0.266667</td>\n",
              "      <td>0.984126</td>\n",
              "      <td>1</td>\n",
              "      <td>0.029144</td>\n",
              "      <td>0.078163</td>\n",
              "      <td>-0.996514</td>\n",
              "      <td>-0.017776</td>\n",
              "      <td>0.076374</td>\n",
              "      <td>-0.996921</td>\n",
              "      <td>-0.039774</td>\n",
              "      <td>0.046978</td>\n",
              "      <td>-0.998104</td>\n",
              "      <td>-0.086605</td>\n",
              "      <td>0.048512</td>\n",
              "      <td>-0.995061</td>\n",
              "    </tr>\n",
              "    <tr>\n",
              "      <th>9</th>\n",
              "      <td>10</td>\n",
              "      <td>0.300000</td>\n",
              "      <td>0.983228</td>\n",
              "      <td>1</td>\n",
              "      <td>0.039799</td>\n",
              "      <td>0.090101</td>\n",
              "      <td>-0.995137</td>\n",
              "      <td>0.013864</td>\n",
              "      <td>0.084928</td>\n",
              "      <td>-0.996291</td>\n",
              "      <td>-0.032378</td>\n",
              "      <td>0.059638</td>\n",
              "      <td>-0.997695</td>\n",
              "      <td>-0.058623</td>\n",
              "      <td>0.056327</td>\n",
              "      <td>-0.996690</td>\n",
              "    </tr>\n",
              "  </tbody>\n",
              "</table>\n",
              "</div>"
            ],
            "text/plain": [
              "   frame   timestamp   confidence   success       x_0       y_0       z_0  \\\n",
              "0      1    0.000000     0.981368         1  0.050079  0.098449 -0.993881   \n",
              "1      2    0.033333     0.980735         1  0.050203  0.085346 -0.995086   \n",
              "2      3    0.066667     0.980477         1  0.052620  0.086090 -0.994897   \n",
              "3      4    0.100000     0.980439         1  0.052326  0.083745 -0.995112   \n",
              "4      5    0.133333     0.980438         1  0.052759  0.082940 -0.995157   \n",
              "5      6    0.166667     0.982374         1  0.021476  0.083240 -0.996298   \n",
              "6      7    0.200000     0.983239         1  0.026547  0.081687 -0.996304   \n",
              "7      8    0.233333     0.983326         1  0.016814  0.071018 -0.997333   \n",
              "8      9    0.266667     0.984126         1  0.029144  0.078163 -0.996514   \n",
              "9     10    0.300000     0.983228         1  0.039799  0.090101 -0.995137   \n",
              "\n",
              "        x_1       y_1       z_1      x_h0      y_h0      z_h0      x_h1  \\\n",
              "0 -0.032585  0.083760 -0.995953 -0.006358  0.070951 -0.997460 -0.089732   \n",
              "1 -0.019518  0.075966 -0.996919 -0.010188  0.053972 -0.998490 -0.080333   \n",
              "2 -0.019757  0.076738 -0.996855 -0.008544  0.052292 -0.998595 -0.081343   \n",
              "3 -0.019646  0.077822 -0.996774 -0.009415  0.049591 -0.998725 -0.081569   \n",
              "4 -0.019311  0.077857 -0.996778 -0.009226  0.048539 -0.998779 -0.081419   \n",
              "5 -0.023043  0.078033 -0.996684 -0.042300  0.048188 -0.997942 -0.086981   \n",
              "6 -0.008445  0.070804 -0.997455 -0.037735  0.049815 -0.998045 -0.073350   \n",
              "7  0.008801  0.066393 -0.997755 -0.051502  0.040807 -0.997839 -0.059822   \n",
              "8 -0.017776  0.076374 -0.996921 -0.039774  0.046978 -0.998104 -0.086605   \n",
              "9  0.013864  0.084928 -0.996291 -0.032378  0.059638 -0.997695 -0.058623   \n",
              "\n",
              "       y_h1      z_h1  \n",
              "0  0.061428 -0.994070  \n",
              "1  0.049126 -0.995557  \n",
              "2  0.047745 -0.995542  \n",
              "3  0.048484 -0.995488  \n",
              "4  0.048296 -0.995509  \n",
              "5  0.045951 -0.995150  \n",
              "6  0.041259 -0.996452  \n",
              "7  0.036748 -0.997532  \n",
              "8  0.048512 -0.995061  \n",
              "9  0.056327 -0.996690  "
            ]
          },
          "metadata": {
            "tags": []
          },
          "execution_count": 6
        }
      ]
    },
    {
      "cell_type": "code",
      "metadata": {
        "id": "ekjB7FSyKhnF",
        "colab_type": "code",
        "outputId": "4d404e58-3921-47d7-d8df-acb93c5402dd",
        "colab": {
          "base_uri": "https://localhost:8080/",
          "height": 256
        }
      },
      "source": [
        "data.iloc[0][4:16]"
      ],
      "execution_count": 0,
      "outputs": [
        {
          "output_type": "execute_result",
          "data": {
            "text/plain": [
              " x_0     0.050079\n",
              " y_0     0.098449\n",
              " z_0    -0.993881\n",
              " x_1    -0.032585\n",
              " y_1     0.083760\n",
              " z_1    -0.995953\n",
              " x_h0   -0.006358\n",
              " y_h0    0.070951\n",
              " z_h0   -0.997460\n",
              " x_h1   -0.089732\n",
              " y_h1    0.061428\n",
              " z_h1   -0.994070\n",
              "Name: 0, dtype: float64"
            ]
          },
          "metadata": {
            "tags": []
          },
          "execution_count": 7
        }
      ]
    },
    {
      "cell_type": "code",
      "metadata": {
        "id": "bdjznVGAkfWd",
        "colab_type": "code",
        "outputId": "84927c64-8788-4034-bcaf-b2eb86b81551",
        "colab": {
          "base_uri": "https://localhost:8080/",
          "height": 1725
        }
      },
      "source": [
        "y=[]\n",
        "for i in range(300,500,1):\n",
        "    try:\n",
        "        data = pd.read_csv(str(i)+'_CLNF_gaze.csv')\n",
        "        y1 = []\n",
        "        for j in range(8000):\n",
        "            x = data.iloc[j][4:16]\n",
        "            y1.extend(round(x,8))\n",
        "        y.append([y1])\n",
        "    except:\n",
        "        print('file not found')\n",
        "input = torch.tensor(y)\n",
        "#inp = input.view(1,-1)\n",
        "#INPUT = torch.cat((inp,inp),0)\n",
        " "
      ],
      "execution_count": 0,
      "outputs": [
        {
          "output_type": "stream",
          "text": [
            "file not found\n",
            "file not found\n",
            "file not found\n",
            "file not found\n",
            "file not found\n",
            "file not found\n",
            "file not found\n",
            "file not found\n",
            "file not found\n",
            "file not found\n",
            "file not found\n",
            "file not found\n",
            "file not found\n",
            "file not found\n",
            "file not found\n",
            "file not found\n",
            "file not found\n",
            "file not found\n",
            "file not found\n",
            "file not found\n",
            "file not found\n",
            "file not found\n",
            "file not found\n",
            "file not found\n",
            "file not found\n",
            "file not found\n",
            "file not found\n",
            "file not found\n",
            "file not found\n",
            "file not found\n",
            "file not found\n",
            "file not found\n",
            "file not found\n",
            "file not found\n",
            "file not found\n",
            "file not found\n",
            "file not found\n",
            "file not found\n",
            "file not found\n",
            "file not found\n",
            "file not found\n",
            "file not found\n",
            "file not found\n",
            "file not found\n",
            "file not found\n",
            "file not found\n",
            "file not found\n",
            "file not found\n",
            "file not found\n",
            "file not found\n",
            "file not found\n",
            "file not found\n",
            "file not found\n",
            "file not found\n",
            "file not found\n",
            "file not found\n",
            "file not found\n",
            "file not found\n",
            "file not found\n",
            "file not found\n",
            "file not found\n",
            "file not found\n",
            "file not found\n",
            "file not found\n",
            "file not found\n",
            "file not found\n",
            "file not found\n",
            "file not found\n",
            "file not found\n",
            "file not found\n",
            "file not found\n",
            "file not found\n",
            "file not found\n",
            "file not found\n",
            "file not found\n",
            "file not found\n",
            "file not found\n",
            "file not found\n",
            "file not found\n",
            "file not found\n",
            "file not found\n",
            "file not found\n",
            "file not found\n",
            "file not found\n",
            "file not found\n",
            "file not found\n",
            "file not found\n",
            "file not found\n",
            "file not found\n",
            "file not found\n",
            "file not found\n",
            "file not found\n",
            "file not found\n"
          ],
          "name": "stdout"
        }
      ]
    },
    {
      "cell_type": "code",
      "metadata": {
        "id": "zmJn8ZhFPI8-",
        "colab_type": "code",
        "outputId": "72ec624e-9517-40ec-e674-5d3002e96937",
        "colab": {
          "base_uri": "https://localhost:8080/",
          "height": 256
        }
      },
      "source": [
        "#input = torch.tensor(y)\n",
        "print(input)"
      ],
      "execution_count": 0,
      "outputs": [
        {
          "output_type": "stream",
          "text": [
            "tensor([[[ 0.0501,  0.0984, -0.9939,  ...,  0.0453,  0.1190, -0.9919]],\n",
            "\n",
            "        [[-0.0427,  0.1131, -0.9927,  ..., -0.1333,  0.2266, -0.9648]],\n",
            "\n",
            "        [[ 0.0439,  0.2576, -0.9652,  ..., -0.2406,  0.2828, -0.9285]],\n",
            "\n",
            "        ...,\n",
            "\n",
            "        [[ 0.0059,  0.2575, -0.9663,  ..., -0.2744,  0.3147, -0.9087]],\n",
            "\n",
            "        [[-0.0088,  0.1059, -0.9943,  ..., -0.2492,  0.3821, -0.8899]],\n",
            "\n",
            "        [[-0.0924,  0.0119, -0.9957,  ..., -0.3591,  0.2353, -0.9031]]])\n"
          ],
          "name": "stdout"
        }
      ]
    },
    {
      "cell_type": "code",
      "metadata": {
        "id": "dwiYBUCvkkeK",
        "colab_type": "code",
        "outputId": "12d7ba11-30bd-45eb-f0f2-abaad7698811",
        "colab": {
          "base_uri": "https://localhost:8080/",
          "height": 54
        }
      },
      "source": [
        "print(input.size())\n",
        "print(type(input))\n"
      ],
      "execution_count": 0,
      "outputs": [
        {
          "output_type": "stream",
          "text": [
            "torch.Size([107, 1, 96000])\n",
            "<class 'torch.Tensor'>\n"
          ],
          "name": "stdout"
        }
      ]
    },
    {
      "cell_type": "code",
      "metadata": {
        "id": "ENJDLLZT4WEr",
        "colab_type": "code",
        "colab": {}
      },
      "source": [
        "data_out = pd.read_csv('train_split_Depression_AVEC2017.csv')"
      ],
      "execution_count": 0,
      "outputs": []
    },
    {
      "cell_type": "code",
      "metadata": {
        "id": "kdy8JH6_k7TU",
        "colab_type": "code",
        "outputId": "822f9457-810a-444a-adf6-89dbe790d5a0",
        "colab": {
          "base_uri": "https://localhost:8080/",
          "height": 226
        }
      },
      "source": [
        "data_out.head()"
      ],
      "execution_count": 0,
      "outputs": [
        {
          "output_type": "execute_result",
          "data": {
            "text/html": [
              "<div>\n",
              "<style scoped>\n",
              "    .dataframe tbody tr th:only-of-type {\n",
              "        vertical-align: middle;\n",
              "    }\n",
              "\n",
              "    .dataframe tbody tr th {\n",
              "        vertical-align: top;\n",
              "    }\n",
              "\n",
              "    .dataframe thead th {\n",
              "        text-align: right;\n",
              "    }\n",
              "</style>\n",
              "<table border=\"1\" class=\"dataframe\">\n",
              "  <thead>\n",
              "    <tr style=\"text-align: right;\">\n",
              "      <th></th>\n",
              "      <th>Participant_ID</th>\n",
              "      <th>PHQ8_Binary</th>\n",
              "      <th>PHQ8_Score</th>\n",
              "      <th>Gender</th>\n",
              "      <th>PHQ8_NoInterest</th>\n",
              "      <th>PHQ8_Depressed</th>\n",
              "      <th>PHQ8_Sleep</th>\n",
              "      <th>PHQ8_Tired</th>\n",
              "      <th>PHQ8_Appetite</th>\n",
              "      <th>PHQ8_Failure</th>\n",
              "      <th>PHQ8_Concentrating</th>\n",
              "      <th>PHQ8_Moving</th>\n",
              "    </tr>\n",
              "  </thead>\n",
              "  <tbody>\n",
              "    <tr>\n",
              "      <th>0</th>\n",
              "      <td>303</td>\n",
              "      <td>0</td>\n",
              "      <td>0</td>\n",
              "      <td>0</td>\n",
              "      <td>0</td>\n",
              "      <td>0</td>\n",
              "      <td>0.0</td>\n",
              "      <td>0</td>\n",
              "      <td>0</td>\n",
              "      <td>0</td>\n",
              "      <td>0</td>\n",
              "      <td>0</td>\n",
              "    </tr>\n",
              "    <tr>\n",
              "      <th>1</th>\n",
              "      <td>304</td>\n",
              "      <td>0</td>\n",
              "      <td>6</td>\n",
              "      <td>0</td>\n",
              "      <td>0</td>\n",
              "      <td>1</td>\n",
              "      <td>1.0</td>\n",
              "      <td>2</td>\n",
              "      <td>2</td>\n",
              "      <td>0</td>\n",
              "      <td>0</td>\n",
              "      <td>0</td>\n",
              "    </tr>\n",
              "    <tr>\n",
              "      <th>2</th>\n",
              "      <td>305</td>\n",
              "      <td>0</td>\n",
              "      <td>7</td>\n",
              "      <td>1</td>\n",
              "      <td>0</td>\n",
              "      <td>1</td>\n",
              "      <td>1.0</td>\n",
              "      <td>2</td>\n",
              "      <td>2</td>\n",
              "      <td>1</td>\n",
              "      <td>0</td>\n",
              "      <td>0</td>\n",
              "    </tr>\n",
              "    <tr>\n",
              "      <th>3</th>\n",
              "      <td>310</td>\n",
              "      <td>0</td>\n",
              "      <td>4</td>\n",
              "      <td>1</td>\n",
              "      <td>1</td>\n",
              "      <td>1</td>\n",
              "      <td>0.0</td>\n",
              "      <td>0</td>\n",
              "      <td>0</td>\n",
              "      <td>1</td>\n",
              "      <td>1</td>\n",
              "      <td>0</td>\n",
              "    </tr>\n",
              "    <tr>\n",
              "      <th>4</th>\n",
              "      <td>312</td>\n",
              "      <td>0</td>\n",
              "      <td>2</td>\n",
              "      <td>1</td>\n",
              "      <td>0</td>\n",
              "      <td>0</td>\n",
              "      <td>1.0</td>\n",
              "      <td>1</td>\n",
              "      <td>0</td>\n",
              "      <td>0</td>\n",
              "      <td>0</td>\n",
              "      <td>0</td>\n",
              "    </tr>\n",
              "  </tbody>\n",
              "</table>\n",
              "</div>"
            ],
            "text/plain": [
              "   Participant_ID  PHQ8_Binary  PHQ8_Score  Gender  PHQ8_NoInterest  \\\n",
              "0             303            0           0       0                0   \n",
              "1             304            0           6       0                0   \n",
              "2             305            0           7       1                0   \n",
              "3             310            0           4       1                1   \n",
              "4             312            0           2       1                0   \n",
              "\n",
              "   PHQ8_Depressed  PHQ8_Sleep  PHQ8_Tired  PHQ8_Appetite  PHQ8_Failure  \\\n",
              "0               0         0.0           0              0             0   \n",
              "1               1         1.0           2              2             0   \n",
              "2               1         1.0           2              2             1   \n",
              "3               1         0.0           0              0             1   \n",
              "4               0         1.0           1              0             0   \n",
              "\n",
              "   PHQ8_Concentrating  PHQ8_Moving  \n",
              "0                   0            0  \n",
              "1                   0            0  \n",
              "2                   0            0  \n",
              "3                   1            0  \n",
              "4                   0            0  "
            ]
          },
          "metadata": {
            "tags": []
          },
          "execution_count": 12
        }
      ]
    },
    {
      "cell_type": "code",
      "metadata": {
        "id": "jO7VHYYIpWsb",
        "colab_type": "code",
        "colab": {}
      },
      "source": [
        "r = []\n",
        "for i in range(107):\n",
        "    r1 = []\n",
        "    p = data_out.iloc[i][5]\n",
        "    q = p\n",
        "    r.append(int(q))\n",
        "r1.append(r)"
      ],
      "execution_count": 0,
      "outputs": []
    },
    {
      "cell_type": "code",
      "metadata": {
        "id": "XIYeIZNaElNx",
        "colab_type": "code",
        "outputId": "0266e6ea-4f42-4d51-c2a1-daa22a31ddc9",
        "colab": {
          "base_uri": "https://localhost:8080/",
          "height": 1982
        }
      },
      "source": [
        "r2 = torch.tensor(r1)\n",
        "label = r2.reshape(-1,1)\n",
        "print(label)"
      ],
      "execution_count": 0,
      "outputs": [
        {
          "output_type": "stream",
          "text": [
            "tensor([[0],\n",
            "        [1],\n",
            "        [1],\n",
            "        [1],\n",
            "        [0],\n",
            "        [1],\n",
            "        [0],\n",
            "        [1],\n",
            "        [1],\n",
            "        [0],\n",
            "        [1],\n",
            "        [1],\n",
            "        [3],\n",
            "        [1],\n",
            "        [1],\n",
            "        [1],\n",
            "        [0],\n",
            "        [0],\n",
            "        [0],\n",
            "        [1],\n",
            "        [1],\n",
            "        [1],\n",
            "        [3],\n",
            "        [1],\n",
            "        [0],\n",
            "        [2],\n",
            "        [2],\n",
            "        [1],\n",
            "        [3],\n",
            "        [3],\n",
            "        [3],\n",
            "        [2],\n",
            "        [2],\n",
            "        [1],\n",
            "        [2],\n",
            "        [3],\n",
            "        [1],\n",
            "        [0],\n",
            "        [0],\n",
            "        [1],\n",
            "        [2],\n",
            "        [0],\n",
            "        [0],\n",
            "        [0],\n",
            "        [0],\n",
            "        [0],\n",
            "        [0],\n",
            "        [1],\n",
            "        [2],\n",
            "        [0],\n",
            "        [0],\n",
            "        [2],\n",
            "        [0],\n",
            "        [1],\n",
            "        [1],\n",
            "        [1],\n",
            "        [1],\n",
            "        [2],\n",
            "        [0],\n",
            "        [0],\n",
            "        [1],\n",
            "        [1],\n",
            "        [0],\n",
            "        [1],\n",
            "        [1],\n",
            "        [2],\n",
            "        [1],\n",
            "        [0],\n",
            "        [0],\n",
            "        [1],\n",
            "        [0],\n",
            "        [1],\n",
            "        [3],\n",
            "        [0],\n",
            "        [0],\n",
            "        [1],\n",
            "        [1],\n",
            "        [1],\n",
            "        [0],\n",
            "        [0],\n",
            "        [2],\n",
            "        [0],\n",
            "        [1],\n",
            "        [0],\n",
            "        [0],\n",
            "        [1],\n",
            "        [1],\n",
            "        [0],\n",
            "        [0],\n",
            "        [0],\n",
            "        [1],\n",
            "        [0],\n",
            "        [1],\n",
            "        [0],\n",
            "        [0],\n",
            "        [0],\n",
            "        [0],\n",
            "        [0],\n",
            "        [0],\n",
            "        [0],\n",
            "        [0],\n",
            "        [1],\n",
            "        [1],\n",
            "        [1],\n",
            "        [0],\n",
            "        [0],\n",
            "        [1]])\n"
          ],
          "name": "stdout"
        }
      ]
    },
    {
      "cell_type": "code",
      "metadata": {
        "id": "_rGCzeZpfdrW",
        "colab_type": "code",
        "outputId": "11de8631-0a59-4b11-b97c-07d8fd675b76",
        "colab": {
          "base_uri": "https://localhost:8080/",
          "height": 1652
        }
      },
      "source": [
        "lstm = nn.LSTM(input_size = 48000,hidden_size =  300,num_layers = 1)\n",
        "\n",
        "h0 = torch.randn(1, 1, 300)\n",
        "c0 = torch.randn(1, 1, 300)\n",
        "output, (hn, cn) = lstm((input))\n",
        "print(input)\n",
        "print(output)\n",
        "L = nn.Linear(300,4)\n",
        "r_out2 = L(output[:, -1, :])\n",
        "print(r_out2)\n",
        "input.dim()"
      ],
      "execution_count": 0,
      "outputs": [
        {
          "output_type": "stream",
          "text": [
            "tensor([[[ 0.0501,  0.0984, -0.9939,  ...,  0.0596,  0.1033, -0.9929]],\n",
            "\n",
            "        [[-0.0427,  0.1131, -0.9927,  ..., -0.1575,  0.3173, -0.9351]],\n",
            "\n",
            "        [[ 0.0439,  0.2576, -0.9652,  ..., -0.2043,  0.3199, -0.9251]],\n",
            "\n",
            "        ...,\n",
            "\n",
            "        [[ 0.1358,  0.1012, -0.9856,  ..., -0.0374,  0.4880, -0.8720]],\n",
            "\n",
            "        [[ 0.0471,  0.3903, -0.9195,  ...,  0.0000,  0.0000, -1.0000]],\n",
            "\n",
            "        [[ 0.0372,  0.3635, -0.9309,  ..., -0.2594,  0.4195, -0.8699]]])\n",
            "tensor([[[-0.0121, -0.3028,  0.0426,  ..., -0.0074, -0.0331,  0.0703]],\n",
            "\n",
            "        [[-0.0042, -0.6595,  0.1640,  ..., -0.0175, -0.1185,  0.2844]],\n",
            "\n",
            "        [[-0.0049, -0.8171,  0.1481,  ..., -0.0194, -0.1638,  0.2759]],\n",
            "\n",
            "        ...,\n",
            "\n",
            "        [[-0.0038, -0.9291,  0.1348,  ..., -0.2999, -0.0484,  0.2124]],\n",
            "\n",
            "        [[-0.0071, -0.9523,  0.0412,  ..., -0.3198, -0.0714,  0.0642]],\n",
            "\n",
            "        [[-0.0033, -0.9830,  0.1346,  ..., -0.3989, -0.1426,  0.1106]]],\n",
            "       grad_fn=<StackBackward>)\n",
            "tensor([[ 0.0323, -0.0346,  0.0783,  0.2709],\n",
            "        [ 0.1584,  0.0458,  0.0497,  0.2570],\n",
            "        [ 0.1632,  0.0462,  0.1516,  0.2583],\n",
            "        [ 0.2085,  0.0818,  0.0954,  0.2295],\n",
            "        [ 0.2252,  0.0258, -0.0870,  0.2467],\n",
            "        [ 0.1083, -0.0361,  0.0034,  0.1460],\n",
            "        [ 0.1695, -0.0382,  0.0803,  0.3477],\n",
            "        [ 0.1900, -0.0433,  0.0416,  0.2148],\n",
            "        [ 0.1258,  0.0829,  0.1076,  0.2529],\n",
            "        [ 0.2496,  0.0827, -0.0168,  0.1573],\n",
            "        [ 0.1720, -0.0345,  0.0254,  0.2140],\n",
            "        [ 0.1633,  0.0175,  0.0231,  0.2112],\n",
            "        [ 0.1707,  0.0023,  0.0293,  0.2448],\n",
            "        [ 0.1221, -0.0392,  0.0397,  0.1529],\n",
            "        [ 0.0284, -0.0510,  0.0317,  0.1373],\n",
            "        [-0.0102,  0.0085,  0.0179,  0.2035],\n",
            "        [ 0.0783, -0.0960, -0.0370,  0.2755],\n",
            "        [ 0.0404, -0.0521,  0.1712,  0.3686],\n",
            "        [ 0.0510, -0.0552,  0.0673,  0.2665],\n",
            "        [ 0.1114, -0.0601, -0.0115,  0.3308],\n",
            "        [ 0.1359, -0.0224,  0.0711,  0.2477],\n",
            "        [ 0.0988,  0.0006, -0.0038,  0.2069],\n",
            "        [ 0.1320, -0.0275,  0.1086,  0.1703],\n",
            "        [ 0.0582,  0.0418, -0.0087,  0.1563],\n",
            "        [ 0.0976,  0.0606,  0.1335,  0.2407],\n",
            "        [ 0.0979,  0.0624, -0.0100,  0.2021],\n",
            "        [ 0.1146, -0.1212,  0.1361,  0.1644],\n",
            "        [ 0.1603, -0.0422,  0.0386,  0.0497],\n",
            "        [ 0.1672, -0.0376,  0.0851,  0.1552],\n",
            "        [ 0.1696, -0.1525,  0.2794,  0.3647],\n",
            "        [ 0.1248,  0.0178,  0.1030,  0.1722],\n",
            "        [ 0.2087, -0.0700,  0.1037,  0.1693],\n",
            "        [ 0.3024, -0.1395,  0.1882,  0.1780],\n",
            "        [ 0.2448, -0.0667,  0.1559,  0.1738],\n",
            "        [ 0.2358, -0.0340,  0.1110,  0.1587],\n",
            "        [ 0.2204, -0.0805,  0.1177,  0.1480],\n",
            "        [ 0.2085, -0.1009, -0.0027,  0.1655],\n",
            "        [ 0.2634, -0.2270,  0.2054,  0.1235],\n",
            "        [ 0.1990, -0.1517,  0.0233,  0.2037],\n",
            "        [ 0.1658, -0.1002,  0.0799,  0.1348],\n",
            "        [ 0.2631, -0.0898,  0.2392,  0.1000],\n",
            "        [ 0.1973,  0.0135,  0.0481,  0.1316],\n",
            "        [ 0.2040,  0.0391,  0.1456,  0.2593],\n",
            "        [ 0.2051, -0.0218,  0.0240,  0.0806],\n",
            "        [ 0.3262, -0.1030,  0.1549,  0.0873],\n",
            "        [ 0.2052, -0.2091,  0.2004,  0.1273],\n",
            "        [ 0.2006, -0.0946,  0.0629,  0.0909],\n",
            "        [ 0.1827, -0.0595,  0.0550,  0.0902],\n",
            "        [ 0.1893, -0.2043,  0.1153,  0.1044],\n",
            "        [ 0.2412, -0.1125,  0.0347, -0.0195],\n",
            "        [ 0.2429, -0.1880,  0.1490,  0.2059],\n",
            "        [ 0.3568, -0.0926,  0.1293,  0.1449],\n",
            "        [ 0.1866, -0.0497, -0.0300,  0.1460],\n",
            "        [ 0.0545,  0.0366,  0.0566,  0.1722],\n",
            "        [ 0.1539, -0.0699,  0.1902,  0.2420],\n",
            "        [ 0.1949, -0.0402,  0.0460,  0.1038],\n",
            "        [ 0.1888, -0.1494,  0.2933,  0.2475],\n",
            "        [ 0.1891, -0.0589,  0.1022,  0.1068],\n",
            "        [ 0.1989, -0.1309,  0.1874,  0.1302],\n",
            "        [ 0.3088, -0.1806,  0.1313,  0.1329],\n",
            "        [ 0.1341, -0.0949,  0.1121,  0.1990]], grad_fn=<AddmmBackward>)\n"
          ],
          "name": "stdout"
        },
        {
          "output_type": "execute_result",
          "data": {
            "text/plain": [
              "3"
            ]
          },
          "metadata": {
            "tags": []
          },
          "execution_count": 15
        }
      ]
    },
    {
      "cell_type": "code",
      "metadata": {
        "id": "5UL1SQ5GvRUm",
        "colab_type": "code",
        "outputId": "711144cd-5cd2-4110-b864-385a81500bd4",
        "colab": {
          "base_uri": "https://localhost:8080/",
          "height": 35
        }
      },
      "source": [
        "print(input.size())"
      ],
      "execution_count": 0,
      "outputs": [
        {
          "output_type": "stream",
          "text": [
            "torch.Size([107, 1, 96000])\n"
          ],
          "name": "stdout"
        }
      ]
    },
    {
      "cell_type": "code",
      "metadata": {
        "id": "heSe637n96Qx",
        "colab_type": "code",
        "colab": {}
      },
      "source": [
        "class Args:\n",
        "  def __init__(self):\n",
        "    self.cuda = True\n",
        "    self.no_cuda = False\n",
        "    self.seed = 1\n",
        "    \n",
        "args = Args()\n",
        "args.cuda = not args.no_cuda and torch.cuda.is_available()\n",
        "torch.manual_seed(args.seed)\n",
        "if args.cuda:\n",
        "  torch.cuda.manual_seed(args.seed)\n",
        "kwargs = {'num_workers': 1, 'pin_memory': True} if args.cuda else{}"
      ],
      "execution_count": 0,
      "outputs": []
    },
    {
      "cell_type": "code",
      "metadata": {
        "id": "ZDno6Mzwfgtf",
        "colab_type": "code",
        "colab": {}
      },
      "source": [
        "class Model(nn.Module):\n",
        "    def __init__(self):\n",
        "        super(Model, self).__init__()\n",
        "        self.conv1 = nn.Conv1d(107, 80, kernel_size=10, stride=10)\n",
        "        self.pool = nn.MaxPool1d(kernel_size=10, stride=10)\n",
        "        self.rnn = nn.LSTM(\n",
        "              input_size=960, \n",
        "              hidden_size=300, \n",
        "              num_layers=1,\n",
        "              batch_first=True)\n",
        "        self.linear = nn.Linear(300,4)\n",
        "    def forward(self, x):\n",
        "            #x = x.view(1, 1, -1) \n",
        "       \n",
        "            x = input.view(1,107,-1)\n",
        "            x = F.relu(self.conv1(x))\n",
        "            x = self.pool(x)\n",
        "             \n",
        "            #print(type(x),x.size())\n",
        "            r_out, (h_n, h_c) = self.rnn(x)\n",
        "            r_out2 = self.linear(r_out[:, -1, :])\n",
        "           # r_out2 = self.linear()\n",
        "        \n",
        "            a = F.log_softmax(r_out2, dim=1)\n",
        "            return a\n",
        "            \n",
        "   \n",
        "            "
      ],
      "execution_count": 0,
      "outputs": []
    },
    {
      "cell_type": "code",
      "metadata": {
        "id": "DCx9_S3GfjE6",
        "colab_type": "code",
        "colab": {}
      },
      "source": [
        "model = Model()\n",
        "if args.cuda:\n",
        "  model.cuda()\n",
        "optimizer = torch.optim.Adam(model.parameters(),lr=0.0001, betas=(0.9, 0.999))"
      ],
      "execution_count": 0,
      "outputs": []
    },
    {
      "cell_type": "code",
      "metadata": {
        "id": "HIcAaFzkfkrK",
        "colab_type": "code",
        "outputId": "eb779bd3-cca8-4a44-d90c-6c6e6ea5a008",
        "colab": {
          "base_uri": "https://localhost:8080/",
          "height": 4269
        }
      },
      "source": [
        "for i in range(1,10):\n",
        "  cost = []\n",
        "  for i in range(107):\n",
        "          model.train()\n",
        "          if args.cuda:\n",
        "              input, label = input.cuda(), label.cuda()\n",
        "          input, label = Variable(input), Variable(label)\n",
        "\n",
        "\n",
        "          out = model(input[i])\n",
        "          loss = F.nll_loss(out,label[i])\n",
        "          #gg2 = loss()\n",
        "          #print(loss)\n",
        "          #print(out)\n",
        "          optimizer.zero_grad()\n",
        "          loss.backward()\n",
        "          optimizer.step()\n",
        "          cost.append(loss.item())\n",
        "          #total = len(label)*4\n",
        "          #correct = (out== label).sum()\n",
        "          #accuracy = 100 * (correct / total)\n",
        "          #print(accuracy)\n",
        "          #print(out)\n",
        "          #values, indices = torch.argmax(out, 1) \n",
        "          #print(values, indices)\n",
        "          _,preds = torch.max(out,1)\n",
        "          #preds = torch.argmax(out, dim=1)\n",
        "          accuracy = (preds == label).float().mean()\n",
        "          if i%20 == 0:\n",
        "          #print('[%d, %5d] loss: %.3f' %(k + 1, i + 1, loss))\n",
        "            print(\"Accuracy:\",accuracy.item()*100)\n",
        "            print(\"Loss:\",loss.item())\n",
        "\n",
        "  plt.plot(cost)\n",
        "  plt.show()\n",
        "\n",
        "\n"
      ],
      "execution_count": 0,
      "outputs": [
        {
          "output_type": "stream",
          "text": [
            "Accuracy: 42.99065172672272\n",
            "Loss: 0.8795225620269775\n",
            "Accuracy: 40.186914801597595\n",
            "Loss: 0.8459380269050598\n",
            "Accuracy: 40.186914801597595\n",
            "Loss: 2.2513952255249023\n",
            "Accuracy: 40.186914801597595\n",
            "Loss: 0.8753826022148132\n",
            "Accuracy: 40.186914801597595\n",
            "Loss: 2.1862375736236572\n",
            "Accuracy: 42.99065172672272\n",
            "Loss: 0.8852214813232422\n"
          ],
          "name": "stdout"
        },
        {
          "output_type": "display_data",
          "data": {
            "image/png": "[encoded data removed]",
            "text/plain": [
              "<Figure size 432x288 with 1 Axes>"
            ]
          },
          "metadata": {
            "tags": []
          }
        },
        {
          "output_type": "stream",
          "text": [
            "Accuracy: 42.99065172672272\n",
            "Loss: 0.8577239513397217\n",
            "Accuracy: 42.99065172672272\n",
            "Loss: 0.8904058933258057\n",
            "Accuracy: 40.186914801597595\n",
            "Loss: 2.2788898944854736\n",
            "Accuracy: 42.99065172672272\n",
            "Loss: 0.9061383605003357\n",
            "Accuracy: 40.186914801597595\n",
            "Loss: 2.215261936187744\n",
            "Accuracy: 42.99065172672272\n",
            "Loss: 0.8568455576896667\n"
          ],
          "name": "stdout"
        },
        {
          "output_type": "display_data",
          "data": {
            "image/png": "[encoded data removed]",
            "text/plain": [
              "<Figure size 432x288 with 1 Axes>"
            ]
          },
          "metadata": {
            "tags": []
          }
        },
        {
          "output_type": "stream",
          "text": [
            "Accuracy: 42.99065172672272\n",
            "Loss: 0.8342471122741699\n",
            "Accuracy: 42.99065172672272\n",
            "Loss: 0.9055355787277222\n",
            "Accuracy: 40.186914801597595\n",
            "Loss: 2.2897069454193115\n",
            "Accuracy: 42.99065172672272\n",
            "Loss: 0.9172859191894531\n",
            "Accuracy: 42.99065172672272\n",
            "Loss: 2.2291319370269775\n",
            "Accuracy: 42.99065172672272\n",
            "Loss: 0.8456593155860901\n"
          ],
          "name": "stdout"
        },
        {
          "output_type": "display_data",
          "data": {
            "image/png": "[encoded data removed]",
            "text/plain": [
              "<Figure size 432x288 with 1 Axes>"
            ]
          },
          "metadata": {
            "tags": []
          }
        },
        {
          "output_type": "stream",
          "text": [
            "Accuracy: 42.99065172672272\n",
            "Loss: 0.8257099390029907\n",
            "Accuracy: 42.99065172672272\n",
            "Loss: 0.911239743232727\n",
            "Accuracy: 42.99065172672272\n",
            "Loss: 2.294076681137085\n",
            "Accuracy: 42.99065172672272\n",
            "Loss: 0.9220497608184814\n",
            "Accuracy: 42.99065172672272\n",
            "Loss: 2.2358031272888184\n",
            "Accuracy: 42.99065172672272\n",
            "Loss: 0.8399758338928223\n"
          ],
          "name": "stdout"
        },
        {
          "output_type": "display_data",
          "data": {
            "image/png": "[encoded data removed]",
            "text/plain": [
              "<Figure size 432x288 with 1 Axes>"
            ]
          },
          "metadata": {
            "tags": []
          }
        },
        {
          "output_type": "stream",
          "text": [
            "Accuracy: 42.99065172672272\n",
            "Loss: 0.8216315507888794\n",
            "Accuracy: 42.99065172672272\n",
            "Loss: 0.9139943718910217\n",
            "Accuracy: 42.99065172672272\n",
            "Loss: 2.2955873012542725\n",
            "Accuracy: 42.99065172672272\n",
            "Loss: 0.9231794476509094\n",
            "Accuracy: 42.99065172672272\n",
            "Loss: 2.240060329437256\n",
            "Accuracy: 42.99065172672272\n",
            "Loss: 0.8372347950935364\n"
          ],
          "name": "stdout"
        },
        {
          "output_type": "display_data",
          "data": {
            "image/png": "[encoded data removed]",
            "text/plain": [
              "<Figure size 432x288 with 1 Axes>"
            ]
          },
          "metadata": {
            "tags": []
          }
        },
        {
          "output_type": "stream",
          "text": [
            "Accuracy: 42.99065172672272\n",
            "Loss: 0.819695234298706\n",
            "Accuracy: 42.99065172672272\n",
            "Loss: 0.9146260023117065\n",
            "Accuracy: 42.99065172672272\n",
            "Loss: 2.2968740463256836\n",
            "Accuracy: 42.99065172672272\n",
            "Loss: 0.922483503818512\n",
            "Accuracy: 42.99065172672272\n",
            "Loss: 2.242748260498047\n",
            "Accuracy: 42.99065172672272\n",
            "Loss: 0.8359857201576233\n"
          ],
          "name": "stdout"
        },
        {
          "output_type": "display_data",
          "data": {
            "image/png": "[encoded data removed]",
            "text/plain": [
              "<Figure size 432x288 with 1 Axes>"
            ]
          },
          "metadata": {
            "tags": []
          }
        },
        {
          "output_type": "stream",
          "text": [
            "Accuracy: 42.99065172672272\n",
            "Loss: 0.8188868761062622\n",
            "Accuracy: 42.99065172672272\n",
            "Loss: 0.9140374064445496\n",
            "Accuracy: 42.99065172672272\n",
            "Loss: 2.297551393508911\n",
            "Accuracy: 42.99065172672272\n",
            "Loss: 0.9214125871658325\n",
            "Accuracy: 42.99065172672272\n",
            "Loss: 2.2439918518066406\n",
            "Accuracy: 42.99065172672272\n",
            "Loss: 0.8353241086006165\n"
          ],
          "name": "stdout"
        },
        {
          "output_type": "display_data",
          "data": {
            "image/png": "[encoded data removed]",
            "text/plain": [
              "<Figure size 432x288 with 1 Axes>"
            ]
          },
          "metadata": {
            "tags": []
          }
        },
        {
          "output_type": "stream",
          "text": [
            "Accuracy: 42.99065172672272\n",
            "Loss: 0.8184820413589478\n",
            "Accuracy: 42.99065172672272\n",
            "Loss: 0.9131823778152466\n",
            "Accuracy: 42.99065172672272\n",
            "Loss: 2.2976229190826416\n",
            "Accuracy: 42.99065172672272\n",
            "Loss: 0.9204250574111938\n",
            "Accuracy: 42.99065172672272\n",
            "Loss: 2.2444522380828857\n",
            "Accuracy: 42.99065172672272\n",
            "Loss: 0.8349015712738037\n"
          ],
          "name": "stdout"
        },
        {
          "output_type": "display_data",
          "data": {
            "image/png": "[encoded data removed]",
            "text/plain": [
              "<Figure size 432x288 with 1 Axes>"
            ]
          },
          "metadata": {
            "tags": []
          }
        },
        {
          "output_type": "stream",
          "text": [
            "Accuracy: 42.99065172672272\n",
            "Loss: 0.8182309865951538\n",
            "Accuracy: 42.99065172672272\n",
            "Loss: 0.9124120473861694\n",
            "Accuracy: 42.99065172672272\n",
            "Loss: 2.297341823577881\n",
            "Accuracy: 42.99065172672272\n",
            "Loss: 0.9196127653121948\n",
            "Accuracy: 42.99065172672272\n",
            "Loss: 2.244475841522217\n",
            "Accuracy: 42.99065172672272\n",
            "Loss: 0.8346091508865356\n"
          ],
          "name": "stdout"
        },
        {
          "output_type": "display_data",
          "data": {
            "image/png": "[encoded data removed]",
            "text/plain": [
              "<Figure size 432x288 with 1 Axes>"
            ]
          },
          "metadata": {
            "tags": []
          }
        }
      ]
    },
    {
      "cell_type": "code",
      "metadata": {
        "id": "aSKhumiLHAu-",
        "colab_type": "code",
        "outputId": "8cb76765-5771-491e-8f3d-e06c55357cac",
        "colab": {
          "base_uri": "https://localhost:8080/",
          "height": 338
        }
      },
      "source": [
        ""
      ],
      "execution_count": 0,
      "outputs": [
        {
          "output_type": "error",
          "ename": "UnboundLocalError",
          "evalue": "ignored",
          "traceback": [
            "\u001b[0;31m---------------------------------------------------------------------------\u001b[0m",
            "\u001b[0;31mUnboundLocalError\u001b[0m                         Traceback (most recent call last)",
            "\u001b[0;32m<ipython-input-25-56e5eb96ae9d>\u001b[0m in \u001b[0;36m<module>\u001b[0;34m()\u001b[0m\n\u001b[1;32m      1\u001b[0m \u001b[0;32mfor\u001b[0m \u001b[0mi\u001b[0m \u001b[0;32min\u001b[0m \u001b[0mrange\u001b[0m\u001b[0;34m(\u001b[0m\u001b[0;36m1\u001b[0m\u001b[0;34m,\u001b[0m\u001b[0;36m10\u001b[0m\u001b[0;34m)\u001b[0m\u001b[0;34m:\u001b[0m\u001b[0;34m\u001b[0m\u001b[0;34m\u001b[0m\u001b[0m\n\u001b[0;32m----> 2\u001b[0;31m   \u001b[0ma\u001b[0m\u001b[0;34m,\u001b[0m\u001b[0mb\u001b[0m \u001b[0;34m=\u001b[0m \u001b[0mtraining\u001b[0m\u001b[0;34m(\u001b[0m\u001b[0;34m)\u001b[0m\u001b[0;34m\u001b[0m\u001b[0;34m\u001b[0m\u001b[0m\n\u001b[0m\u001b[1;32m      3\u001b[0m   \u001b[0mprint\u001b[0m\u001b[0;34m(\u001b[0m\u001b[0ma\u001b[0m\u001b[0;34m,\u001b[0m\u001b[0mb\u001b[0m\u001b[0;34m)\u001b[0m\u001b[0;34m\u001b[0m\u001b[0;34m\u001b[0m\u001b[0m\n",
            "\u001b[0;32m<ipython-input-24-2628936d84b1>\u001b[0m in \u001b[0;36mtraining\u001b[0;34m()\u001b[0m\n\u001b[1;32m      4\u001b[0m           \u001b[0mmodel\u001b[0m\u001b[0;34m.\u001b[0m\u001b[0mtrain\u001b[0m\u001b[0;34m(\u001b[0m\u001b[0;34m)\u001b[0m\u001b[0;34m\u001b[0m\u001b[0;34m\u001b[0m\u001b[0m\n\u001b[1;32m      5\u001b[0m           \u001b[0;32mif\u001b[0m \u001b[0margs\u001b[0m\u001b[0;34m.\u001b[0m\u001b[0mcuda\u001b[0m\u001b[0;34m:\u001b[0m\u001b[0;34m\u001b[0m\u001b[0;34m\u001b[0m\u001b[0m\n\u001b[0;32m----> 6\u001b[0;31m               \u001b[0minput\u001b[0m\u001b[0;34m,\u001b[0m \u001b[0mlabel\u001b[0m \u001b[0;34m=\u001b[0m \u001b[0minput\u001b[0m\u001b[0;34m.\u001b[0m\u001b[0mcuda\u001b[0m\u001b[0;34m(\u001b[0m\u001b[0;34m)\u001b[0m\u001b[0;34m,\u001b[0m \u001b[0mlabel\u001b[0m\u001b[0;34m.\u001b[0m\u001b[0mcuda\u001b[0m\u001b[0;34m(\u001b[0m\u001b[0;34m)\u001b[0m\u001b[0;34m\u001b[0m\u001b[0;34m\u001b[0m\u001b[0m\n\u001b[0m\u001b[1;32m      7\u001b[0m           \u001b[0minput\u001b[0m\u001b[0;34m,\u001b[0m \u001b[0mlabel\u001b[0m \u001b[0;34m=\u001b[0m \u001b[0mVariable\u001b[0m\u001b[0;34m(\u001b[0m\u001b[0minput\u001b[0m\u001b[0;34m)\u001b[0m\u001b[0;34m,\u001b[0m \u001b[0mVariable\u001b[0m\u001b[0;34m(\u001b[0m\u001b[0mlabel\u001b[0m\u001b[0;34m)\u001b[0m\u001b[0;34m\u001b[0m\u001b[0;34m\u001b[0m\u001b[0m\n\u001b[1;32m      8\u001b[0m \u001b[0;34m\u001b[0m\u001b[0m\n",
            "\u001b[0;31mUnboundLocalError\u001b[0m: local variable 'input' referenced before assignment"
          ]
        }
      ]
    },
    {
      "cell_type": "code",
      "metadata": {
        "id": "TR5toYGh0YgA",
        "colab_type": "code",
        "outputId": "10de1b17-e437-44da-d136-b00ee3ea1829",
        "colab": {
          "base_uri": "https://localhost:8080/",
          "height": 227
        }
      },
      "source": [
        "print(out)\n",
        "values= torch.argmax(out, 1) \n",
        "print(values, indices)"
      ],
      "execution_count": 0,
      "outputs": [
        {
          "output_type": "stream",
          "text": [
            "tensor([[-1.0583, -0.6702, -2.7949, -2.5225]], grad_fn=<LogSoftmaxBackward>)\n"
          ],
          "name": "stdout"
        },
        {
          "output_type": "error",
          "ename": "NameError",
          "evalue": "ignored",
          "traceback": [
            "\u001b[0;31m---------------------------------------------------------------------------\u001b[0m",
            "\u001b[0;31mNameError\u001b[0m                                 Traceback (most recent call last)",
            "\u001b[0;32m<ipython-input-19-85fed1058f67>\u001b[0m in \u001b[0;36m<module>\u001b[0;34m()\u001b[0m\n\u001b[1;32m      1\u001b[0m \u001b[0mprint\u001b[0m\u001b[0;34m(\u001b[0m\u001b[0mout\u001b[0m\u001b[0;34m)\u001b[0m\u001b[0;34m\u001b[0m\u001b[0;34m\u001b[0m\u001b[0m\n\u001b[1;32m      2\u001b[0m \u001b[0mvalues\u001b[0m\u001b[0;34m=\u001b[0m \u001b[0mtorch\u001b[0m\u001b[0;34m.\u001b[0m\u001b[0margmax\u001b[0m\u001b[0;34m(\u001b[0m\u001b[0mout\u001b[0m\u001b[0;34m,\u001b[0m \u001b[0;36m1\u001b[0m\u001b[0;34m)\u001b[0m\u001b[0;34m\u001b[0m\u001b[0;34m\u001b[0m\u001b[0m\n\u001b[0;32m----> 3\u001b[0;31m \u001b[0mprint\u001b[0m\u001b[0;34m(\u001b[0m\u001b[0mvalues\u001b[0m\u001b[0;34m,\u001b[0m \u001b[0mindices\u001b[0m\u001b[0;34m)\u001b[0m\u001b[0;34m\u001b[0m\u001b[0;34m\u001b[0m\u001b[0m\n\u001b[0m",
            "\u001b[0;31mNameError\u001b[0m: name 'indices' is not defined"
          ]
        }
      ]
    },
    {
      "cell_type": "code",
      "metadata": {
        "id": "fmvI4VUZhHcw",
        "colab_type": "code",
        "colab": {}
      },
      "source": [
        "z=[]\n",
        "for i in range(400,450,1):\n",
        "    try:\n",
        "        data = pd.read_csv(str(i)+'_CLNF_gaze.csv')\n",
        "        z1 = []\n",
        "        for j in range(4000):\n",
        "            t = data.iloc[j][4:16]\n",
        "            z1.extend(round(t,8))\n",
        "        z.append([z1])\n",
        "    except:\n",
        "        print('file not found')\n",
        "input_test = torch.tensor(z)"
      ],
      "execution_count": 0,
      "outputs": []
    },
    {
      "cell_type": "code",
      "metadata": {
        "id": "tQFso4LPfnbA",
        "colab_type": "code",
        "colab": {}
      },
      "source": [
        "print(input_test)\n",
        "input_test.size()\n",
        "print(label[3][0])"
      ],
      "execution_count": 0,
      "outputs": []
    },
    {
      "cell_type": "code",
      "metadata": {
        "id": "_J-eRQr9ldop",
        "colab_type": "code",
        "colab": {}
      },
      "source": [
        "for o in range(27):\n",
        "  out_test = model(input_test[o])\n",
        "  print(\"Participant:\",(o+400))\n",
        "  print(\"Output:\",out_test)\n",
        "  _,predsz = torch.max(out_test, 1)\n",
        "  print(predsz)\n",
        "  _,preds_test = torch.max(out_test, 1)\n",
        "  accuracy_test = (preds_test == label).float().mean()\n",
        "  #print('[%d, %5d] loss: %.3f' %(k + 1, i + 1, loss))\n",
        "  print(\"Accuracy:\",accuracy_test)"
      ],
      "execution_count": 0,
      "outputs": []
    },
    {
      "cell_type": "code",
      "metadata": {
        "id": "3EWaNzA58Iv4",
        "colab_type": "code",
        "colab": {}
      },
      "source": [
        ""
      ],
      "execution_count": 0,
      "outputs": []
    }
  ]
}